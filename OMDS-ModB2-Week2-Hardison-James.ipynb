{
 "cells": [
  {
   "cell_type": "markdown",
   "id": "5190b54c-d49c-4d6f-80cc-22555336a9cd",
   "metadata": {},
   "source": [
    "# Week 2 - Preprocessing, part 2\n",
    "\n",
    "# 1. Lesson: None"
   ]
  },
  {
   "cell_type": "markdown",
   "id": "47c4e5ff-b05f-4ef2-96f1-49dcb5beb158",
   "metadata": {},
   "source": [
    "# 2. Weekly graph question"
   ]
  },
  {
   "cell_type": "markdown",
   "id": "aad37e29-6e84-41fa-886d-abc1312213ab",
   "metadata": {},
   "source": [
    "The Storytelling With Data book mentions planning on a \"Who, What, and How\" for your data story.  Write down a possible Who, What, and How for your data, using the ideas in the book."
   ]
  },
  {
   "cell_type": "markdown",
   "id": "83acbc7c",
   "metadata": {},
   "source": [
    "Who: Health clinic directors\n",
    "What: Lab values can help identify patients likely to have CKD\n",
    "How: A boxplot comparing serum creatinine in CKD vs. non-CKD groups, with a short caption that highlights the difference"
   ]
  },
  {
   "cell_type": "code",
   "execution_count": 1,
   "id": "c862fc32-1297-4587-b9da-4b0642ab3e6e",
   "metadata": {},
   "outputs": [],
   "source": [
    "#Who: Health clinic directors\n",
    "#What: Lab values can help identify patients likely to have CKD\n",
    "#How: A boxplot comparing serum creatinine in CKD vs. non-CKD groups, with a short caption that highlights the difference"
   ]
  },
  {
   "cell_type": "markdown",
   "id": "898eb327-aefd-4ac0-b95a-92b616a2181b",
   "metadata": {},
   "source": [
    "# 3. Homework - work with your own data"
   ]
  },
  {
   "cell_type": "code",
   "execution_count": 5,
   "id": "fe925521-979f-4983-8d85-8db8d1316e99",
   "metadata": {},
   "outputs": [
    {
     "name": "stdout",
     "output_type": "stream",
     "text": [
      "Class balance:\n",
      " Age                        4.0\n",
      "Blood Pressure             4.0\n",
      "Specific Gravity           4.0\n",
      "Albumin                    4.0\n",
      "Sugar                      4.0\n",
      "Red Blood Cells            4.0\n",
      "Pus Cell                   4.0\n",
      "Pus Cell clumps            4.0\n",
      "Bacteria                   4.0\n",
      "Blood Glucose Random       4.0\n",
      "Blood Urea                 4.0\n",
      "Serum Creatinine           4.0\n",
      "Sodium                     4.0\n",
      "Potassium                  4.0\n",
      "Hemoglobin                 4.0\n",
      "Packed Cell Volume         4.0\n",
      "White Blood Cell Count     4.0\n",
      "Red Blood Cell Count       4.0\n",
      "Hypertension               4.0\n",
      "Diabetes Mellitus          4.0\n",
      "Coronary Artery Disease    4.0\n",
      "Appetite                   4.0\n",
      "Pedal Edema                4.0\n",
      "Anemia                     4.0\n",
      "Class                      4.0\n",
      "Name: proportion, dtype: float64 \n",
      "\n",
      "Data types:\n",
      " Age                        float64\n",
      "Blood Pressure             float64\n",
      "Specific Gravity           float64\n",
      "Albumin                    float64\n",
      "Sugar                      float64\n",
      "Red Blood Cells             object\n",
      "Pus Cell                    object\n",
      "Pus Cell clumps             object\n",
      "Bacteria                    object\n",
      "Blood Glucose Random       float64\n",
      "Blood Urea                 float64\n",
      "Serum Creatinine           float64\n",
      "Sodium                     float64\n",
      "Potassium                  float64\n",
      "Hemoglobin                 float64\n",
      "Packed Cell Volume         float64\n",
      "White Blood Cell Count     float64\n",
      "Red Blood Cell Count       float64\n",
      "Hypertension                object\n",
      "Diabetes Mellitus           object\n",
      "Coronary Artery Disease     object\n",
      "Appetite                    object\n",
      "Pedal Edema                 object\n",
      "Anemia                      object\n",
      "Class                       object\n",
      "dtype: object \n",
      "\n"
     ]
    }
   ],
   "source": [
    "import pandas as pd\n",
    "import numpy as np\n",
    "from datetime import datetime, timedelta\n",
    "\n",
    "url = \"https://raw.githubusercontent.com/matthew-brett/cfd2020/master/data/ckd_full.csv\"\n",
    "df = pd.read_csv(url)\n",
    "#print(\"head://///////// \\n\", df.head())\n",
    "#print(\"Info:////////// \\n\", df.info())\n",
    "#print(\"Describe:////// \\n\",df.describe())\n",
    "\n",
    "\n",
    "\n",
    "#print(\"Missing values:\\n\", df.isnull().sum(), \"\\n\")\n",
    "##print(\"Duplicate rows:\", df.duplicated().sum(), \"\\n\")\n",
    "#print(df.columns.tolist())\n",
    "print(\"Class balance:\\n\", df.columns.value_counts(normalize=True) * 100, \"\\n\")\n",
    "print(\"Data types:\\n\", df.dtypes, \"\\n\")\n",
    "\n"
   ]
  },
  {
   "cell_type": "markdown",
   "id": "14836788-b235-4cd4-b94d-5f749c6141a8",
   "metadata": {},
   "source": [
    "This week, you will do the same types of exercises as last week, but you should use your chosen datasets that someone in your class found last semester. (They likely will not be the particular datasets that you found yourself.)\n",
    "\n",
    "### Here are some types of analysis you can do  Use Google, documentation, and ChatGPT to help you:\n",
    "\n",
    "- Summarize the datasets using info() and describe()\n",
    "\n",
    "- Are there any duplicate rows?\n",
    "\n",
    "- Are there any duplicate values in a given column (when this would be inappropriate?)\n",
    "\n",
    "- What are the mean, median, and mode of each column?\n",
    "\n",
    "- Are there any missing or null values?\n",
    "\n",
    "    - Do you want to fill in the missing value with a mean value?  A value of your choice?  Remove that row?\n",
    "\n",
    "- Identify any other inconsistent data (e.g. someone seems to be taking an action before they are born.)\n",
    "\n",
    "- Encode any categorical variables (e.g. with one-hot encoding.)\n",
    "\n",
    "### Conclusions:\n",
    "\n",
    "- Are the data usable?  If not, find some new data!\n",
    "\n",
    "- Do you need to modify or correct the data in some way?\n",
    "\n",
    "- Is there any class imbalance?  (Categories that have many more items than other categories)."
   ]
  },
  {
   "cell_type": "markdown",
   "id": "abab9e6d-18cc-4863-b980-3e52f581763a",
   "metadata": {},
   "source": [
    "# 4. Storytelling With Data graph"
   ]
  },
  {
   "cell_type": "markdown",
   "id": "1911148d-9df6-4b33-a875-8c96408ec834",
   "metadata": {},
   "source": [
    "Just like last week: choose any graph in the Introduction of Storytelling With Data. Use matplotlib to reproduce it in a rough way. I don't expect you to spend an enormous amount of time on this; I understand that you likely will not have time to re-create every feature of the graph. However, if you're excited about learning to use matplotlib, this is a good way to do that. You don't have to duplicate the exact values on the graph; just the same rough shape will be enough.  If you don't feel comfortable using matplotlib yet, do the best you can and write down what you tried or what Google searches you did to find the answers."
   ]
  },
  {
   "cell_type": "code",
   "execution_count": 7,
   "id": "8b2888f9-3700-45ab-9829-6a5372106f9f",
   "metadata": {},
   "outputs": [
    {
     "name": "stdout",
     "output_type": "stream",
     "text": [
      "['age', 'blood pressure', 'specific gravity', 'albumin', 'sugar', 'red blood cells', 'pus cell', 'pus cell clumps', 'bacteria', 'blood glucose random', 'blood urea', 'serum creatinine', 'sodium', 'potassium', 'hemoglobin', 'packed cell volume', 'white blood cell count', 'red blood cell count', 'hypertension', 'diabetes mellitus', 'coronary artery disease', 'appetite', 'pedal edema', 'anemia', 'class']\n"
     ]
    },
    {
     "data": {
      "image/png": "[encoded data removed]",
      "text/plain": [
       "<Figure size 600x400 with 1 Axes>"
      ]
     },
     "metadata": {},
     "output_type": "display_data"
    }
   ],
   "source": [
    "import pandas as pd\n",
    "import matplotlib.pyplot as plt\n",
    "\n",
    "# Load the full CKD dataset\n",
    "url = \"https://raw.githubusercontent.com/matthew-brett/cfd2020/master/data/ckd_full.csv\"\n",
    "df = pd.read_csv(url)\n",
    "\n",
    "# Clean column names (remove whitespace, lowercase)\n",
    "df.columns = df.columns.str.strip().str.lower()\n",
    "\n",
    "print(df.columns.tolist())\n",
    "\n",
    "\n",
    "# Clean the diabetes column name and values\n",
    "df.rename(columns={'diabetes mellitus': 'dm'}, inplace=True)\n",
    "df['dm'] = df['dm'].astype(str).str.strip().str.lower()\n",
    "\n",
    "# Count and sort values\n",
    "dm_counts = df['dm'].value_counts().sort_values(ascending=True)\n",
    "\n",
    "\n",
    "\n",
    "import matplotlib.pyplot as plt\n",
    "\n",
    "plt.figure(figsize=(6, 4))\n",
    "plt.barh(dm_counts.index, dm_counts.values, color='teal')\n",
    "plt.title(\"Diabetes Status in CKD Patients\")\n",
    "plt.xlabel(\"Number of Patients\")\n",
    "\n",
    "for i, v in enumerate(dm_counts.values):\n",
    "    plt.text(v + 1, i, str(v), va='center')\n",
    "\n",
    "plt.tight_layout()\n",
    "plt.show()\n",
    "\n",
    "\n",
    "\n",
    "\n"
   ]
  }
 ],
 "metadata": {
  "kernelspec": {
   "display_name": "Python 3",
   "language": "python",
   "name": "python3"
  },
  "language_info": {
   "codemirror_mode": {
    "name": "ipython",
    "version": 3
   },
   "file_extension": ".py",
   "mimetype": "text/x-python",
   "name": "python",
   "nbconvert_exporter": "python",
   "pygments_lexer": "ipython3",
   "version": "3.12.1"
  }
 },
 "nbformat": 4,
 "nbformat_minor": 5
}
